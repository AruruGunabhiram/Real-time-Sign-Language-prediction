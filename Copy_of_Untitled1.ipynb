{
  "nbformat": 4,
  "nbformat_minor": 0,
  "metadata": {
    "colab": {
      "provenance": [],
      "gpuType": "T4",
      "authorship_tag": "ABX9TyM2U8Ok7rOdn2Lhx5Jakd5D",
      "include_colab_link": true
    },
    "kernelspec": {
      "name": "python3",
      "display_name": "Python 3"
    },
    "language_info": {
      "name": "python"
    },
    "accelerator": "GPU"
  },
  "cells": [
    {
      "cell_type": "markdown",
      "metadata": {
        "id": "view-in-github",
        "colab_type": "text"
      },
      "source": [
        "<a href=\"https://colab.research.google.com/github/Vanamnikhil/Sign-language-Detection/blob/main/Copy_of_Untitled1.ipynb\" target=\"_parent\"><img src=\"https://colab.research.google.com/assets/colab-badge.svg\" alt=\"Open In Colab\"/></a>"
      ]
    },
    {
      "cell_type": "code",
      "execution_count": null,
      "metadata": {
        "colab": {
          "base_uri": "https://localhost:8080/"
        },
        "id": "bQGZT7izUJ4G",
        "outputId": "defef1ca-19fc-49e7-bc6d-918a354a8562"
      },
      "outputs": [
        {
          "output_type": "stream",
          "name": "stdout",
          "text": [
            "Reading package lists... Done\n",
            "Building dependency tree... Done\n",
            "Reading state information... Done\n",
            "git is already the newest version (1:2.34.1-1ubuntu1.10).\n",
            "0 upgraded, 0 newly installed, 0 to remove and 18 not upgraded.\n",
            "Cloning into 'RealTimeObjectDetection'...\n",
            "remote: Enumerating objects: 27, done.\u001b[K\n",
            "remote: Total 27 (delta 0), reused 0 (delta 0), pack-reused 27\u001b[K\n",
            "Receiving objects: 100% (27/27), 29.61 MiB | 7.26 MiB/s, done.\n",
            "Resolving deltas: 100% (1/1), done.\n"
          ]
        }
      ],
      "source": [
        "# Install Git\n",
        "!apt-get install -y git\n",
        "\n",
        "# Clone the repository\n",
        "!git clone https://github.com/nicknochnack/RealTimeObjectDetection.git\n"
      ]
    },
    {
      "cell_type": "code",
      "source": [
        "import cv2\n",
        "import os\n",
        "import time\n",
        "import uuid"
      ],
      "metadata": {
        "id": "mifVQSpebzAP"
      },
      "execution_count": null,
      "outputs": []
    },
    {
      "cell_type": "code",
      "source": [
        "images_path='/content/RealTimeObjectDetection/Tensorflow/workspace/images/collectedimages'\n"
      ],
      "metadata": {
        "id": "OSy54DIwb2VS"
      },
      "execution_count": null,
      "outputs": []
    },
    {
      "cell_type": "code",
      "source": [
        "labels={'hello','thanks','yes','no','iloveyou'}\n",
        "number_imgs=15"
      ],
      "metadata": {
        "id": "Wl6UhPbpb7bn"
      },
      "execution_count": null,
      "outputs": []
    },
    {
      "cell_type": "code",
      "source": [
        "for label in labels:\n",
        "  !mkdir {'\\content\\RealTimeObjectDetection\\Tensorflow\\workspace\\images\\collectedimages\\\\'+label}\n",
        "  cap=cv2.VideoCapture(0)\n",
        "  print(\"Collecting images for {}\".format(label))\n",
        "  time.sleep(5)\n",
        "  for imgnum in range(number_imgs):\n",
        "    ret, frame=cap.read()\n",
        "    if ret:\n",
        "      image_name = os.path.join(label_dir, label + '.' + str(uuid.uuid1()) + '.jpg')\n",
        "      cv2.imwrite(image_name, frame)\n",
        "      cv2.imshow('frame', frame)\n",
        "      time.sleep(2)\n",
        "      if cv2.waitKey(1) & 0xFF == ord('q'):\n",
        "        break\n",
        "    else:\n",
        "      print(\"Error capturing frame\")\n",
        "\n",
        "  cap.release()"
      ],
      "metadata": {
        "colab": {
          "base_uri": "https://localhost:8080/"
        },
        "id": "LRxdXOQigZB1",
        "outputId": "119302ed-3254-4515-8869-bd3439595433"
      },
      "execution_count": null,
      "outputs": [
        {
          "output_type": "stream",
          "name": "stdout",
          "text": [
            "Collecting images for hello\n",
            "Error capturing frame\n",
            "Error capturing frame\n",
            "Error capturing frame\n",
            "Error capturing frame\n",
            "Error capturing frame\n",
            "Error capturing frame\n",
            "Error capturing frame\n",
            "Error capturing frame\n",
            "Error capturing frame\n",
            "Error capturing frame\n",
            "Error capturing frame\n",
            "Error capturing frame\n",
            "Error capturing frame\n",
            "Error capturing frame\n",
            "Error capturing frame\n",
            "Collecting images for thanks\n"
          ]
        }
      ]
    },
    {
      "cell_type": "code",
      "source": [],
      "metadata": {
        "id": "qpdsrZKch6wi"
      },
      "execution_count": null,
      "outputs": []
    }
  ]
}